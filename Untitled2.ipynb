{
 "cells": [
  {
   "cell_type": "code",
   "execution_count": 22,
   "id": "df2ea6b4-6506-4af5-8b0c-46930bf0e832",
   "metadata": {},
   "outputs": [
    {
     "data": {
      "text/plain": [
       "1"
      ]
     },
     "execution_count": 22,
     "metadata": {},
     "output_type": "execute_result"
    }
   ],
   "source": [
    "1"
   ]
  },
  {
   "cell_type": "code",
   "execution_count": 28,
   "id": "17e51365-a923-4899-a853-a34c22a1c6d6",
   "metadata": {},
   "outputs": [
    {
     "name": "stdin",
     "output_type": "stream",
     "text": [
      "What operation of 2 numbers do you want to do? (options are add, subtract, multiply, divide, power, factorial and %:  power\n",
      "Enter the base number:  3\n",
      "Enter the exponent:  6\n"
     ]
    },
    {
     "name": "stdout",
     "output_type": "stream",
     "text": [
      "3.0 to the power of 6.0 is: 729.0\n"
     ]
    }
   ],
   "source": [
    "def calculator(op):\n",
    "    if op not in ['add', 'subtract', 'multiply', 'divide', 'power', 'factorial',  '%']:\n",
    "        raise ValueError(\"Invalid operation\")\n",
    "    elif op == 'add':\n",
    "        x = float(input(\"Enter the first number you want to add: \"))\n",
    "        y = float(input(\"Enter the second number you want to add: \"))\n",
    "        print(\"The sum of your numbers is :\", x + y)\n",
    "    elif op == 'subtract':\n",
    "        x = float(input(\"Enter the first number you want to subtract: \"))\n",
    "        y = float(input(\"Enter the second number you want to subtract: \"))\n",
    "        print(\"The difference of your numbers is :\", x - y)\n",
    "    elif op == 'multiply':\n",
    "        x = float(input(\"Enter the first number you want to multiply: \"))\n",
    "        y = float(input(\"Enter the second number you want to multply: \"))\n",
    "        print(\"The product of your numbers is :\", x * y)\n",
    "    elif op == 'divide':\n",
    "        x = float(input(\"Enter the first number you want to divide: \"))\n",
    "        y = float(input(\"Enter the second number you want to divide: \"))\n",
    "        print(\"The quotient of your numbers is :\", x / y)\n",
    "    elif op == 'power':\n",
    "        x = float(input(\"Enter the base number: \"))\n",
    "        y = float(input(\"Enter the exponent: \"))\n",
    "        print(f\"{x} to the power of {y} is:\", x** y)\n",
    "    elif op == '%':\n",
    "        x = float(input(\"Enter the number you want to take the modulo of: \"))\n",
    "        y = float(input(\"Enter the number you want to divide by: \"))\n",
    "        print(f\"The modulo of {x} % {y} is:\", x%y)\n",
    "    elif op == 'factorial':\n",
    "        x = int(input(\"Enter the number you want to take the factorial of: \"))\n",
    "        x1 = 1\n",
    "        for i in range(1,x+1):\n",
    "            x1 *= i\n",
    "        print(f\"{x} factorial is:\", x1)\n",
    "        \n",
    "op = str(input(\"What operation of 2 numbers do you want to do? (options are add, subtract, multiply, divide, power, factorial and %: \"))\n",
    "calculator(op)\n",
    "\n"
   ]
  },
  {
   "cell_type": "code",
   "execution_count": null,
   "id": "20bdfaa0-aece-43c2-a7ae-0098677de475",
   "metadata": {},
   "outputs": [],
   "source": []
  }
 ],
 "metadata": {
  "kernelspec": {
   "display_name": "Python 3 (ipykernel)",
   "language": "python",
   "name": "python3"
  },
  "language_info": {
   "codemirror_mode": {
    "name": "ipython",
    "version": 3
   },
   "file_extension": ".py",
   "mimetype": "text/x-python",
   "name": "python",
   "nbconvert_exporter": "python",
   "pygments_lexer": "ipython3",
   "version": "3.12.6"
  }
 },
 "nbformat": 4,
 "nbformat_minor": 5
}
